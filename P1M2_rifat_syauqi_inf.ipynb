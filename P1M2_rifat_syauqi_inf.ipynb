{
 "cells": [
  {
   "cell_type": "markdown",
   "metadata": {},
   "source": [
    "# Milestone 2 Model Inference\n",
    "\n",
    "Nama: Rif'at Syauqi Pahad  \n",
    "Batch: RMT-040"
   ]
  },
  {
   "cell_type": "code",
   "execution_count": 1,
   "metadata": {},
   "outputs": [],
   "source": [
    "# Import libraries and the model\n",
    "import pandas as pd\n",
    "import numpy as np\n",
    "import pickle\n",
    "\n",
    "# Load files\n",
    "with open('model_dt.pkl', 'rb') as model_file:\n",
    "    best_dt_model = pickle.load(model_file)"
   ]
  },
  {
   "cell_type": "code",
   "execution_count": 2,
   "metadata": {},
   "outputs": [
    {
     "data": {
      "text/html": [
       "<div>\n",
       "<style scoped>\n",
       "    .dataframe tbody tr th:only-of-type {\n",
       "        vertical-align: middle;\n",
       "    }\n",
       "\n",
       "    .dataframe tbody tr th {\n",
       "        vertical-align: top;\n",
       "    }\n",
       "\n",
       "    .dataframe thead th {\n",
       "        text-align: right;\n",
       "    }\n",
       "</style>\n",
       "<table border=\"1\" class=\"dataframe\">\n",
       "  <thead>\n",
       "    <tr style=\"text-align: right;\">\n",
       "      <th></th>\n",
       "      <th>season_1</th>\n",
       "      <th>season_2</th>\n",
       "      <th>team_id</th>\n",
       "      <th>team_name</th>\n",
       "      <th>player_id</th>\n",
       "      <th>player_name</th>\n",
       "      <th>position_group</th>\n",
       "      <th>position</th>\n",
       "      <th>game_date</th>\n",
       "      <th>game_id</th>\n",
       "      <th>...</th>\n",
       "      <th>basic_zone</th>\n",
       "      <th>zone_name</th>\n",
       "      <th>zone_abb</th>\n",
       "      <th>zone_range</th>\n",
       "      <th>loc_x</th>\n",
       "      <th>loc_y</th>\n",
       "      <th>shot_distance</th>\n",
       "      <th>quarter</th>\n",
       "      <th>mins_left</th>\n",
       "      <th>secs_left</th>\n",
       "    </tr>\n",
       "  </thead>\n",
       "  <tbody>\n",
       "    <tr>\n",
       "      <th>0</th>\n",
       "      <td>2024</td>\n",
       "      <td>2023-24</td>\n",
       "      <td>1610612742</td>\n",
       "      <td>Dallas Mavericks</td>\n",
       "      <td>1629029</td>\n",
       "      <td>Luka Doncic</td>\n",
       "      <td>G</td>\n",
       "      <td>PG</td>\n",
       "      <td>3/12/2024</td>\n",
       "      <td>22300769</td>\n",
       "      <td>...</td>\n",
       "      <td>Above the Break 3</td>\n",
       "      <td>Right Side Center</td>\n",
       "      <td>RC</td>\n",
       "      <td>24+ ft.</td>\n",
       "      <td>-20.5</td>\n",
       "      <td>26.25</td>\n",
       "      <td>25</td>\n",
       "      <td>4</td>\n",
       "      <td>3</td>\n",
       "      <td>56</td>\n",
       "    </tr>\n",
       "  </tbody>\n",
       "</table>\n",
       "<p>1 rows × 24 columns</p>\n",
       "</div>"
      ],
      "text/plain": [
       "   season_1 season_2     team_id         team_name  player_id  player_name  \\\n",
       "0      2024  2023-24  1610612742  Dallas Mavericks    1629029  Luka Doncic   \n",
       "\n",
       "  position_group position  game_date   game_id  ...         basic_zone  \\\n",
       "0              G       PG  3/12/2024  22300769  ...  Above the Break 3   \n",
       "\n",
       "           zone_name zone_abb zone_range loc_x  loc_y shot_distance quarter  \\\n",
       "0  Right Side Center       RC    24+ ft. -20.5  26.25            25       4   \n",
       "\n",
       "   mins_left  secs_left  \n",
       "0          3         56  \n",
       "\n",
       "[1 rows x 24 columns]"
      ]
     },
     "execution_count": 2,
     "metadata": {},
     "output_type": "execute_result"
    }
   ],
   "source": [
    "# Membuat Data Inference\n",
    "df_inf = {'season_1': 2024, \n",
    "          'season_2': '2023-24', \n",
    "          'team_id': 1610612742, \n",
    "          'team_name': 'Dallas Mavericks', \n",
    "          'player_id': 1629029,\n",
    "          'player_name': 'Luka Doncic', \n",
    "          'position_group': 'G', \n",
    "          'position': 'PG', \n",
    "          'game_date': '3/12/2024', \n",
    "          'game_id': 22300769,\n",
    "          'home_team': 'GSW',\n",
    "          'away_team': 'DAL', \n",
    "          'action_type': 'Running Jump Shot',\n",
    "          'shot_type': '3PT Field Goal', \n",
    "          'basic_zone': 'Above the Break 3', \n",
    "          'zone_name': 'Right Side Center', \n",
    "          'zone_abb': 'RC', \n",
    "          'zone_range': '24+ ft.',\n",
    "          'loc_x':-20.5, \n",
    "          'loc_y': 26.25, \n",
    "          'shot_distance': 25, \n",
    "          'quarter': 4, \n",
    "          'mins_left': 3, \n",
    "          'secs_left': 56}\n",
    "\n",
    "# Convert menjadi dataframe\n",
    "df_inf = pd.DataFrame([df_inf])\n",
    "df_inf"
   ]
  },
  {
   "cell_type": "code",
   "execution_count": 3,
   "metadata": {},
   "outputs": [],
   "source": [
    "# Merubah Value dalam kolom shot_type\n",
    "df_inf['shot_type'] = df_inf['shot_type'].apply(lambda x: 3 if x == '3PT Field Goal' else 2)\n"
   ]
  },
  {
   "cell_type": "code",
   "execution_count": 4,
   "metadata": {},
   "outputs": [
    {
     "name": "stdout",
     "output_type": "stream",
     "text": [
      "<class 'pandas.core.frame.DataFrame'>\n",
      "RangeIndex: 1 entries, 0 to 0\n",
      "Data columns (total 24 columns):\n",
      " #   Column          Non-Null Count  Dtype         \n",
      "---  ------          --------------  -----         \n",
      " 0   season_1        1 non-null      int64         \n",
      " 1   season_2        1 non-null      object        \n",
      " 2   team_id         1 non-null      int64         \n",
      " 3   team_name       1 non-null      object        \n",
      " 4   player_id       1 non-null      int64         \n",
      " 5   player_name     1 non-null      object        \n",
      " 6   position_group  1 non-null      object        \n",
      " 7   position        1 non-null      object        \n",
      " 8   game_date       1 non-null      datetime64[ns]\n",
      " 9   game_id         1 non-null      int64         \n",
      " 10  home_team       1 non-null      object        \n",
      " 11  away_team       1 non-null      object        \n",
      " 12  action_type     1 non-null      object        \n",
      " 13  shot_type       1 non-null      int64         \n",
      " 14  basic_zone      1 non-null      object        \n",
      " 15  zone_name       1 non-null      object        \n",
      " 16  zone_abb        1 non-null      object        \n",
      " 17  zone_range      1 non-null      object        \n",
      " 18  loc_x           1 non-null      float64       \n",
      " 19  loc_y           1 non-null      float64       \n",
      " 20  shot_distance   1 non-null      int64         \n",
      " 21  quarter         1 non-null      int64         \n",
      " 22  mins_left       1 non-null      int64         \n",
      " 23  secs_left       1 non-null      int64         \n",
      "dtypes: datetime64[ns](1), float64(2), int64(9), object(12)\n",
      "memory usage: 320.0+ bytes\n"
     ]
    }
   ],
   "source": [
    "# merubah tipa data game_date menjadi date and time\n",
    "df_inf['game_date'] = pd.to_datetime(df_inf['game_date'], format='mixed', dayfirst=True)\n",
    "df_inf.info()"
   ]
  },
  {
   "cell_type": "code",
   "execution_count": 5,
   "metadata": {},
   "outputs": [],
   "source": [
    "# Ekstraksi fitur waktu\n",
    "df_inf[\"game_year\"] = df_inf[\"game_date\"].dt.year\n",
    "df_inf[\"game_month\"] = df_inf[\"game_date\"].dt.month\n",
    "df_inf[\"game_day\"] = df_inf[\"game_date\"].dt.day\n",
    "\n",
    "# drop kolom game_date\n",
    "df_inf.drop(columns='game_date',inplace=True)"
   ]
  },
  {
   "cell_type": "code",
   "execution_count": 6,
   "metadata": {},
   "outputs": [
    {
     "name": "stdout",
     "output_type": "stream",
     "text": [
      "<class 'pandas.core.frame.DataFrame'>\n",
      "RangeIndex: 1 entries, 0 to 0\n",
      "Data columns (total 19 columns):\n",
      " #   Column          Non-Null Count  Dtype  \n",
      "---  ------          --------------  -----  \n",
      " 0   team_name       1 non-null      object \n",
      " 1   player_name     1 non-null      object \n",
      " 2   position_group  1 non-null      object \n",
      " 3   game_id         1 non-null      int64  \n",
      " 4   home_team       1 non-null      object \n",
      " 5   away_team       1 non-null      object \n",
      " 6   action_type     1 non-null      object \n",
      " 7   shot_type       1 non-null      int64  \n",
      " 8   zone_name       1 non-null      object \n",
      " 9   zone_range      1 non-null      object \n",
      " 10  loc_x           1 non-null      float64\n",
      " 11  loc_y           1 non-null      float64\n",
      " 12  shot_distance   1 non-null      int64  \n",
      " 13  quarter         1 non-null      int64  \n",
      " 14  mins_left       1 non-null      int64  \n",
      " 15  secs_left       1 non-null      int64  \n",
      " 16  game_year       1 non-null      int32  \n",
      " 17  game_month      1 non-null      int32  \n",
      " 18  game_day        1 non-null      int32  \n",
      "dtypes: float64(2), int32(3), int64(6), object(8)\n",
      "memory usage: 268.0+ bytes\n"
     ]
    }
   ],
   "source": [
    "# Drop kolom\n",
    "df_inf = df_inf.drop(columns=['season_1','season_2','team_id','player_id','position','basic_zone','zone_abb'])\n",
    "df_inf.info()"
   ]
  },
  {
   "cell_type": "code",
   "execution_count": 7,
   "metadata": {},
   "outputs": [],
   "source": [
    "\n",
    "# menyimpan nama kolom yang numerik, categorical, encoded,  dan date\n",
    "num = ['loc_x', 'loc_y','shot_distance','quarter', 'mins_left','secs_left']\n",
    "cat_nom = ['team_name', 'player_name', 'position_group','home_team','away_team','action_type','shot_type','zone_name']\n",
    "cat_ord = ['zone_range']"
   ]
  },
  {
   "cell_type": "code",
   "execution_count": 8,
   "metadata": {},
   "outputs": [
    {
     "data": {
      "text/plain": [
       "array([0])"
      ]
     },
     "execution_count": 8,
     "metadata": {},
     "output_type": "execute_result"
    }
   ],
   "source": [
    "prediction = best_dt_model.predict(df_inf)\n",
    "prediction"
   ]
  },
  {
   "cell_type": "code",
   "execution_count": null,
   "metadata": {},
   "outputs": [],
   "source": []
  }
 ],
 "metadata": {
  "kernelspec": {
   "display_name": "py39",
   "language": "python",
   "name": "python3"
  },
  "language_info": {
   "codemirror_mode": {
    "name": "ipython",
    "version": 3
   },
   "file_extension": ".py",
   "mimetype": "text/x-python",
   "name": "python",
   "nbconvert_exporter": "python",
   "pygments_lexer": "ipython3",
   "version": "3.9.21"
  }
 },
 "nbformat": 4,
 "nbformat_minor": 2
}
